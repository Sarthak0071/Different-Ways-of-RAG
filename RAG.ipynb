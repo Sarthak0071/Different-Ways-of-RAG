{
  "cells": [],
  "metadata": {
    "colab": {
      "provenance": []
    },
    "kernelspec": {
      "display_name": "Python 3",
      "name": "python3"
    },
    "language_info": {
      "name": "python"
    },
    "widgets": {
      "state": {}
    }
  },
  "nbformat": 4,
  "nbformat_minor": 0
}
